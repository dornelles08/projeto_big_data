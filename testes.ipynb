{
 "cells": [
  {
   "cell_type": "code",
   "execution_count": 2,
   "metadata": {},
   "outputs": [],
   "source": [
    "import pandas as pd\n"
   ]
  },
  {
   "cell_type": "code",
   "execution_count": 4,
   "metadata": {},
   "outputs": [
    {
     "data": {
      "text/plain": [
       "'corsa-classic-2007-1024796860?utm_source=listing_2020'"
      ]
     },
     "execution_count": 4,
     "metadata": {},
     "output_type": "execute_result"
    }
   ],
   "source": [
    "'https://se.olx.com.br/sergipe/autos-e-pecas/carros-vans-e-utilitarios/corsa-classic-2007-1024796860?utm_source=listing_2020'.split(\"/\")[-1]"
   ]
  },
  {
   "cell_type": "code",
   "execution_count": 10,
   "metadata": {},
   "outputs": [
    {
     "name": "stdout",
     "output_type": "stream",
     "text": [
      "292\n",
      "30\n",
      "[1, 2, 3, 4, 5, 6, 7, 8, 9, 0, 1, 2, 3, 4, 5, 6, 7, 8, 9, 0, 1, 2, 3, 4, 5, 6, 7, 8, 9, 1]\n",
      "0\n",
      "[2, 3, 4, 5, 6, 7, 8, 9, 0, 1, 2, 3, 4, 5, 6, 7, 8, 9, 0, 1, 2, 3, 4, 5, 6, 7, 8, 9, 1, 2]\n",
      "1\n",
      "[3, 4, 5, 6, 7, 8, 9, 0, 1, 2, 3, 4, 5, 6, 7, 8, 9, 0, 1, 2, 3, 4, 5, 6, 7, 8, 9, 1, 2, 3]\n",
      "2\n",
      "[4, 5, 6, 7, 8, 9, 0, 1, 2, 3, 4, 5, 6, 7, 8, 9, 0, 1, 2, 3, 4, 5, 6, 7, 8, 9, 1, 2, 3, 4]\n",
      "3\n",
      "[5, 6, 7, 8, 9, 0, 1, 2, 3, 4, 5, 6, 7, 8, 9, 0, 1, 2, 3, 4, 5, 6, 7, 8, 9, 1, 1, 2, 3, 4]\n",
      "4\n",
      "[5, 6, 7, 8, 9, 0, 1, 2, 3, 4, 5, 6, 7, 8, 9, 0, 1, 2, 3, 4, 5, 6, 7, 8, 9, 1, 2, 3, 4, 5]\n",
      "5\n",
      "[6, 7, 8, 9, 0, 1, 2, 3, 4, 5, 6, 7, 8, 9, 0, 1, 2, 3, 4, 5, 6, 7, 8, 9, 1, 2, 3, 4, 5, 6]\n",
      "6\n",
      "[7, 8, 9, 0, 1, 2, 3, 4, 5, 6, 7, 8, 9, 0, 1, 2, 3, 4, 5, 6, 7, 8, 9, 1, 2, 3, 4, 5, 6, 7]\n",
      "7\n",
      "[8, 9, 0, 1, 2, 3, 4, 5, 6, 7, 8, 9, 0, 1, 2, 3, 4, 5, 6, 7, 8, 9, 1, 2, 3, 4, 5, 6, 7, 8]\n",
      "8\n",
      "[9, 0, 1, 2, 3, 4, 5, 6, 7, 8, 9, 0, 1, 2, 3, 4, 5, 6, 7, 8, 9, 1]\n",
      "9\n"
     ]
    }
   ],
   "source": [
    "lista = [1,2,3,4,5,6,7,8,9,0,1,2,3,4,5,6,7,8,9,0,1,2,3,4,5,6,7,8,9,1,2,3,4,5,6,7,8,9,0,1,2,3,4,5,6,7,8,9,0,1,2,3,4,5,6,7,8,9,1,2,3,4,5,6,7,8,9,0,1,2,3,4,5,6,7,8,9,0,1,2,3,4,5,6,7,8,9,1,2,3,4,5,6,7,8,9,0,1,2,3,4,5,6,7,8,9,0,1,2,3,4,5,6,7,8,9,1,2,3,4,5,6,7,8,9,0,1,2,3,4,5,6,7,8,9,0,1,2,3,4,5,6,7,8,9,1,1,2,3,4,5,6,7,8,9,0,1,2,3,4,5,6,7,8,9,0,1,2,3,4,5,6,7,8,9,1,2,3,4,5,6,7,8,9,0,1,2,3,4,5,6,7,8,9,0,1,2,3,4,5,6,7,8,9,1,2,3,4,5,6,7,8,9,0,1,2,3,4,5,6,7,8,9,0,1,2,3,4,5,6,7,8,9,1,2,3,4,5,6,7,8,9,0,1,2,3,4,5,6,7,8,9,0,1,2,3,4,5,6,7,8,9,1,2,3,4,5,6,7,8,9,0,1,2,3,4,5,6,7,8,9,0,1,2,3,4,5,6,7,8,9,1]\n",
    "print(len(lista))\n",
    "base = int(len(lista)/10) + 1\n",
    "print(base)\n",
    "for i in range(0, 10):\n",
    "    print(lista[base*i:base*(i+1)])\n",
    "    print(i)\n"
   ]
  },
  {
   "cell_type": "code",
   "execution_count": 10,
   "metadata": {},
   "outputs": [
    {
     "data": {
      "text/plain": [
       "{'Content-Type': 'text/html; charset=utf-8', 'Transfer-Encoding': 'chunked', 'Connection': 'close', 'Server': 'nginx', 'Date': 'Fri, 17 Jun 2022 15:06:43 GMT', 'X-Powered-By': 'Express', 'Cache-Control': 'max-age=1800, no-transform', 'Expires': 'Fri, 17 Jun 2022 15:36:43 GMT', 'X-Frame-Options': 'SAMEORIGIN', 'X-NC': '0', 'X-Content-Type-Options': 'nosniff', 'Access-Control-Allow-Credentials': 'true', 'Access-Control-Allow-Methods': 'GET, POST, PUT, DELETE, PATCH, OPTIONS', 'Access-Control-Allow-Headers': 'Authorization, Content-Type', 'Content-Security-Policy-Report-Only': \"default-src https: wss: data: 'self' 'unsafe-inline' 'unsafe-eval'; report-uri https://cspreport.olx.com.br/api/v1/cspreport/mixedcontent\", 'Content-Encoding': 'gzip', 'Strict-Transport-Security': 'max-age=300; includeSubDomains', 'Vary': 'Accept-Encoding', 'Set-Cookie': 'r_id=bcf87d4d-2fc5-4711-a6f8-61dc56c811eb; Domain=.olx.com.br; Path=/; Max-Age=315360000, TestAB_Groups=abuy-list-item-fair-badge_orange.ads-exp-qualtrics_enabled.adv-728x90-home_homeB.adv-adagio_enabled.adv-adview-afsh-native_enabled.adv-adview-lazyload_enabled.adv-afs_search.adv-bad-bidders_disabled.adv-billboard_enabled.adv-chat_enabled.adv-gemini_enabled.adv-has-adblocker_enabled.adv-insureads_enabled.adv-listing-afsh-native_enabled.adv-listing-afsh_enabled.adv-magnite-adview_enabled.adv-magnite-listing_enabled.adv-monitoring_enabled.adv-seasonal_control.ai-ds-v2_control.banner-0de6edb35ad54b95bc06a10e727d1b07-web_show.bj-transactional-info_enabled.central-ajuda-banner-incident_A.central-ajuda-pro-sem-chat_control.chatmod-banner_on-without-first-tip.ck-filters-motos_control.dado-adicional-admod-web_enabled.delivery-disputes-help-section_A.delivery-disputes-my-mediation-section_A.delivery-minhas-compras-e-vendas-menu_enable-novo.dispute-form-improved_A.disputes-after-sales-contact-us-button_A.disputes-subreason-diagnose_A.email-confirmation_yes.financing-async-simulations_enabled.grayzone-facematch_on.help-center-new-pre-chat_A.helpcenter-chat-intercom_A.helpcenter-chat-salesforce_A.helpcenter-chat_A.helpcenter-logged-experience_A.helpcenter-my-purchases_A.helpcenter-new-categories_A.helpcenter-selfservice-pending-publishing_A.helpcenter-v2_A.hug-fale-conosco-thumbs-down_A.imo-card-sug-oi_on.imo-xp-dynamic-map_control.ml-rollout-fast-resolution_control.modal-gestao-de-contatos-web_enabled.nu-experiment-test_show.nubanner-web_show.olx-central-header_enabled.osp-new-front-web_new-front.osp-newpos-bundles_landing-v2.payg-disable-bronze-highlight_enabled.payg-discount-julius_control.payg-discount-re-julius_0-1-40.payg-myads-discount_40.pos-new-autos-plans-subscription_control.pp-myplan-header-button_show.removalAdOnboard_A.search-input-header_control.seller-rating_enabled.telefone-descricao-anuncio_showsecuritytip1.txp-chat-negotiation-buyers_control.txp-chat-negotiation-sellers_control.unreadable-category-hide_enabled.vasaut-card-sug-oi_on.vasaut-purchase-intention-question_required-question.vasimo-card-suggestion_enabled.vx-myads-insertion_modal.vx-tag-listing_active.vx-videos-on-adview-gallery_second-position.whatsapp-na-central-de-ajuda_A; Domain=.olx.com.br; Path=/; Max-Age=1800', 'X-Cache': 'Miss from cloudfront', 'Via': '1.1 d0aae99772e59e24f7411cf3903368b0.cloudfront.net (CloudFront)', 'X-Amz-Cf-Pop': 'FOR50-P2', 'X-Amz-Cf-Id': 'foROj2_3w3Y6_uYn0kEeRXihxJ-F4GWlnv-yUZGDa8sxlQq8MOOzKA=='}"
      ]
     },
     "execution_count": 10,
     "metadata": {},
     "output_type": "execute_result"
    }
   ],
   "source": [
    "import requests\n",
    "from bs4 import BeautifulSoup\n",
    "header = {\n",
    "    'Host': 'se.olx.com.br',\n",
    "    'Connection': 'close',\n",
    "    'Cache-Control': 'max-age=0',\n",
    "    'Upgrade-Insecure-Requests': '1',\n",
    "    'User-Agent': 'Mozilla/5.0 (Windows NT 10.0; Win64; x64) AppleWebKit/537.36 (KHTML, like Gecko) Chrome/87.0.4280.88 Safari/537.36',\n",
    "    'Accept': 'text/html,application/xhtml+xml,application/xml;q=0.9,image/avif,image/webp,image/apng,*/*;q=0.8,application/signed-exchange;v=b3;q=0.9',\n",
    "    'Sec-Fetch-Site': 'none',\n",
    "    'Sec-Fetch-Mode': 'navigate',\n",
    "    'Sec-Fetch-User': '?1',\n",
    "    'Sec-Fetch-Dest': 'document',\n",
    "    'Accept-Encoding': 'gzip, deflate',\n",
    "    'Accept-Language': 'pt-BR,pt;q=0.9,en-US;q=0.8,en;q=0.7',\n",
    "    'Cookie': 'r_id=bcf87d4d-2fc5-4711-a6f8-61dc56c811eb; Domain=.olx.com.br; Path=/; Max-Age=315360000, TestAB_Groups=abuy-list-item-fair-badge_orange.ads-exp-qualtrics_enabled.adv-728x90-home_homeB.adv-adagio_enabled.adv-adview-afsh-native_enabled.adv-adview-lazyload_enabled.adv-afs_search.adv-bad-bidders_disabled.adv-billboard_enabled.adv-chat_enabled.adv-gemini_enabled.adv-has-adblocker_enabled.adv-insureads_enabled.adv-listing-afsh-native_enabled.adv-listing-afsh_enabled.adv-magnite-adview_enabled.adv-magnite-listing_enabled.adv-monitoring_enabled.adv-seasonal_control.ai-ds-v2_control.banner-0de6edb35ad54b95bc06a10e727d1b07-web_show.bj-transactional-info_enabled.central-ajuda-banner-incident_A.central-ajuda-pro-sem-chat_control.chatmod-banner_on-without-first-tip.ck-filters-motos_control.dado-adicional-admod-web_enabled.delivery-disputes-help-section_A.delivery-disputes-my-mediation-section_A.delivery-minhas-compras-e-vendas-menu_enable-novo.dispute-form-improved_A.disputes-after-sales-contact-us-button_A.disputes-subreason-diagnose_A.email-confirmation_yes.financing-async-simulations_enabled.grayzone-facematch_on.help-center-new-pre-chat_A.helpcenter-chat-intercom_A.helpcenter-chat-salesforce_A.helpcenter-chat_A.helpcenter-logged-experience_A.helpcenter-my-purchases_A.helpcenter-new-categories_A.helpcenter-selfservice-pending-publishing_A.helpcenter-v2_A.hug-fale-conosco-thumbs-down_A.imo-card-sug-oi_on.imo-xp-dynamic-map_control.ml-rollout-fast-resolution_control.modal-gestao-de-contatos-web_enabled.nu-experiment-test_show.nubanner-web_show.olx-central-header_enabled.osp-new-front-web_new-front.osp-newpos-bundles_landing-v2.payg-disable-bronze-highlight_enabled.payg-discount-julius_control.payg-discount-re-julius_0-1-40.payg-myads-discount_40.pos-new-autos-plans-subscription_control.pp-myplan-header-button_show.removalAdOnboard_A.search-input-header_control.seller-rating_enabled.telefone-descricao-anuncio_showsecuritytip1.txp-chat-negotiation-buyers_control.txp-chat-negotiation-sellers_control.unreadable-category-hide_enabled.vasaut-card-sug-oi_on.vasaut-purchase-intention-question_required-question.vasimo-card-suggestion_enabled.vx-myads-insertion_modal.vx-tag-listing_active.vx-videos-on-adview-gallery_second-position.whatsapp-na-central-de-ajuda_A; Domain=.olx.com.br; Path=/; Max-Age=1800'\n",
    "}\n",
    "result = requests.get('https://se.olx.com.br/sergipe/autos-e-pecas/carros-vans-e-utilitarios/renault-captur-19-2020-automatico-787472960', headers=header)\n",
    "result.headers\n",
    "# html = result.content\n",
    "# soup = BeautifulSoup(html, 'html.parser')"
   ]
  },
  {
   "cell_type": "code",
   "execution_count": 3,
   "metadata": {},
   "outputs": [],
   "source": [
    "carros = [{'title': 'Trailblazer 2019', 'price': '225.000', 'Categoria': 'Carros, vans e utilitários', 'Modelo': 'GM - CHEVROLET TRAILBLAZER LTZ 2.8 CTDI DIESEL AUT.', 'Marca': 'GM - CHEVROLET', 'Ano': '2019', 'Quilometragem': '65000', 'Combustível': 'Diesel', 'Câmbio': 'Automático', 'Cor': 'Preto', 'Final de placa': '2', 'Vidro elétrico': 0, 'Trava elétrica': 0, 'Ar condicionado': 0, 'Direção hidráulica': 0, 'Som': 0, 'Air bag': 0, 'Alarme': 0, 'Sensor de ré': 0, 'Câmera de ré': 0, 'Blindado': 0, 'uf': 'se', 'link': 'https://se.olx.com.br/sergipe/autos-e-pecas/carros-vans-e-utilitarios/trailblazer-2019-1033623213', }, {'title': 'Mercedes b200', 'price': '115.000', 'Categoria': 'Carros, vans e utilitários',\n",
    "                                                                                                                                                                                                                                                                                                                                                                                                                                                                                                                                                                                                                                                    'Modelo': 'MERCEDES-BENZ CLASSE B 200 CGI 1.6 TB/FLEX AUT.', 'Marca': 'MERCEDES-BENZ', 'Tipo de veículo': 'SUV', 'Ano': '2018', 'Quilometragem': '49000', 'Potência do motor': '1.6', 'Combustível': 'Flex', 'Kit GNV': 'Não', 'Câmbio': 'Automático', 'Direção': 'Elétrica', 'Cor': 'Preto', 'Portas': '4 portas', 'Final de placa': '8', 'Vidro elétrico': 1, 'Trava elétrica': 1, 'Ar condicionado': 1, 'Direção hidráulica': 0, 'Som': 1, 'Air bag': 1, 'Alarme': 1, 'Sensor de ré': 1, 'Câmera de ré': 0, 'Blindado': 0, 'uf': 'se', 'link': 'https://se.olx.com.br/sergipe/autos-e-pecas/carros-vans-e-utilitarios/mercedes-b200-1027906845'}]\n",
    "df = pd.DataFrame(carros)\n",
    "\n",
    "df.to_csv(\"./output/carros.csv\", index=False)\n"
   ]
  },
  {
   "cell_type": "code",
   "execution_count": 4,
   "metadata": {},
   "outputs": [
    {
     "data": {
      "text/html": [
       "<div>\n",
       "<style scoped>\n",
       "    .dataframe tbody tr th:only-of-type {\n",
       "        vertical-align: middle;\n",
       "    }\n",
       "\n",
       "    .dataframe tbody tr th {\n",
       "        vertical-align: top;\n",
       "    }\n",
       "\n",
       "    .dataframe thead th {\n",
       "        text-align: right;\n",
       "    }\n",
       "</style>\n",
       "<table border=\"1\" class=\"dataframe\">\n",
       "  <thead>\n",
       "    <tr style=\"text-align: right;\">\n",
       "      <th></th>\n",
       "      <th>title</th>\n",
       "      <th>price</th>\n",
       "      <th>Categoria</th>\n",
       "      <th>Modelo</th>\n",
       "      <th>Marca</th>\n",
       "      <th>Ano</th>\n",
       "      <th>Quilometragem</th>\n",
       "      <th>Combustível</th>\n",
       "      <th>Câmbio</th>\n",
       "      <th>Cor</th>\n",
       "      <th>...</th>\n",
       "      <th>Sensor de ré</th>\n",
       "      <th>Câmera de ré</th>\n",
       "      <th>Blindado</th>\n",
       "      <th>uf</th>\n",
       "      <th>link</th>\n",
       "      <th>Tipo de veículo</th>\n",
       "      <th>Potência do motor</th>\n",
       "      <th>Kit GNV</th>\n",
       "      <th>Direção</th>\n",
       "      <th>Portas</th>\n",
       "    </tr>\n",
       "  </thead>\n",
       "  <tbody>\n",
       "    <tr>\n",
       "      <th>0</th>\n",
       "      <td>Trailblazer 2019</td>\n",
       "      <td>225.0</td>\n",
       "      <td>Carros, vans e utilitários</td>\n",
       "      <td>GM - CHEVROLET TRAILBLAZER LTZ 2.8 CTDI DIESEL...</td>\n",
       "      <td>GM - CHEVROLET</td>\n",
       "      <td>2019</td>\n",
       "      <td>65000</td>\n",
       "      <td>Diesel</td>\n",
       "      <td>Automático</td>\n",
       "      <td>Preto</td>\n",
       "      <td>...</td>\n",
       "      <td>0</td>\n",
       "      <td>0</td>\n",
       "      <td>0</td>\n",
       "      <td>se</td>\n",
       "      <td>https://se.olx.com.br/sergipe/autos-e-pecas/ca...</td>\n",
       "      <td>NaN</td>\n",
       "      <td>NaN</td>\n",
       "      <td>NaN</td>\n",
       "      <td>NaN</td>\n",
       "      <td>NaN</td>\n",
       "    </tr>\n",
       "    <tr>\n",
       "      <th>1</th>\n",
       "      <td>Mercedes b200</td>\n",
       "      <td>115.0</td>\n",
       "      <td>Carros, vans e utilitários</td>\n",
       "      <td>MERCEDES-BENZ CLASSE B 200 CGI 1.6 TB/FLEX AUT.</td>\n",
       "      <td>MERCEDES-BENZ</td>\n",
       "      <td>2018</td>\n",
       "      <td>49000</td>\n",
       "      <td>Flex</td>\n",
       "      <td>Automático</td>\n",
       "      <td>Preto</td>\n",
       "      <td>...</td>\n",
       "      <td>1</td>\n",
       "      <td>0</td>\n",
       "      <td>0</td>\n",
       "      <td>se</td>\n",
       "      <td>https://se.olx.com.br/sergipe/autos-e-pecas/ca...</td>\n",
       "      <td>SUV</td>\n",
       "      <td>1.6</td>\n",
       "      <td>Não</td>\n",
       "      <td>Elétrica</td>\n",
       "      <td>4 portas</td>\n",
       "    </tr>\n",
       "    <tr>\n",
       "      <th>2</th>\n",
       "      <td>Trailblazer 2019</td>\n",
       "      <td>225.000</td>\n",
       "      <td>Carros, vans e utilitários</td>\n",
       "      <td>GM - CHEVROLET TRAILBLAZER LTZ 2.8 CTDI DIESEL...</td>\n",
       "      <td>GM - CHEVROLET</td>\n",
       "      <td>2019</td>\n",
       "      <td>65000</td>\n",
       "      <td>Diesel</td>\n",
       "      <td>Automático</td>\n",
       "      <td>Preto</td>\n",
       "      <td>...</td>\n",
       "      <td>0</td>\n",
       "      <td>0</td>\n",
       "      <td>0</td>\n",
       "      <td>se</td>\n",
       "      <td>https://se.olx.com.br/sergipe/autos-e-pecas/ca...</td>\n",
       "      <td>NaN</td>\n",
       "      <td>NaN</td>\n",
       "      <td>NaN</td>\n",
       "      <td>NaN</td>\n",
       "      <td>NaN</td>\n",
       "    </tr>\n",
       "    <tr>\n",
       "      <th>3</th>\n",
       "      <td>Mercedes b200</td>\n",
       "      <td>115.000</td>\n",
       "      <td>Carros, vans e utilitários</td>\n",
       "      <td>MERCEDES-BENZ CLASSE B 200 CGI 1.6 TB/FLEX AUT.</td>\n",
       "      <td>MERCEDES-BENZ</td>\n",
       "      <td>2018</td>\n",
       "      <td>49000</td>\n",
       "      <td>Flex</td>\n",
       "      <td>Automático</td>\n",
       "      <td>Preto</td>\n",
       "      <td>...</td>\n",
       "      <td>1</td>\n",
       "      <td>0</td>\n",
       "      <td>0</td>\n",
       "      <td>se</td>\n",
       "      <td>https://se.olx.com.br/sergipe/autos-e-pecas/ca...</td>\n",
       "      <td>SUV</td>\n",
       "      <td>1.6</td>\n",
       "      <td>Não</td>\n",
       "      <td>Elétrica</td>\n",
       "      <td>4 portas</td>\n",
       "    </tr>\n",
       "  </tbody>\n",
       "</table>\n",
       "<p>4 rows × 28 columns</p>\n",
       "</div>"
      ],
      "text/plain": [
       "              title    price                   Categoria  \\\n",
       "0  Trailblazer 2019    225.0  Carros, vans e utilitários   \n",
       "1     Mercedes b200    115.0  Carros, vans e utilitários   \n",
       "2  Trailblazer 2019  225.000  Carros, vans e utilitários   \n",
       "3     Mercedes b200  115.000  Carros, vans e utilitários   \n",
       "\n",
       "                                              Modelo           Marca   Ano  \\\n",
       "0  GM - CHEVROLET TRAILBLAZER LTZ 2.8 CTDI DIESEL...  GM - CHEVROLET  2019   \n",
       "1    MERCEDES-BENZ CLASSE B 200 CGI 1.6 TB/FLEX AUT.   MERCEDES-BENZ  2018   \n",
       "2  GM - CHEVROLET TRAILBLAZER LTZ 2.8 CTDI DIESEL...  GM - CHEVROLET  2019   \n",
       "3    MERCEDES-BENZ CLASSE B 200 CGI 1.6 TB/FLEX AUT.   MERCEDES-BENZ  2018   \n",
       "\n",
       "  Quilometragem Combustível      Câmbio    Cor  ... Sensor de ré  \\\n",
       "0         65000      Diesel  Automático  Preto  ...            0   \n",
       "1         49000        Flex  Automático  Preto  ...            1   \n",
       "2         65000      Diesel  Automático  Preto  ...            0   \n",
       "3         49000        Flex  Automático  Preto  ...            1   \n",
       "\n",
       "   Câmera de ré  Blindado  uf  \\\n",
       "0             0         0  se   \n",
       "1             0         0  se   \n",
       "2             0         0  se   \n",
       "3             0         0  se   \n",
       "\n",
       "                                                link  Tipo de veículo  \\\n",
       "0  https://se.olx.com.br/sergipe/autos-e-pecas/ca...              NaN   \n",
       "1  https://se.olx.com.br/sergipe/autos-e-pecas/ca...              SUV   \n",
       "2  https://se.olx.com.br/sergipe/autos-e-pecas/ca...              NaN   \n",
       "3  https://se.olx.com.br/sergipe/autos-e-pecas/ca...              SUV   \n",
       "\n",
       "   Potência do motor  Kit GNV   Direção    Portas  \n",
       "0                NaN      NaN       NaN       NaN  \n",
       "1                1.6      Não  Elétrica  4 portas  \n",
       "2                NaN      NaN       NaN       NaN  \n",
       "3                1.6      Não  Elétrica  4 portas  \n",
       "\n",
       "[4 rows x 28 columns]"
      ]
     },
     "execution_count": 4,
     "metadata": {},
     "output_type": "execute_result"
    }
   ],
   "source": [
    "carrosDF = pd.read_csv(\"./output/carros.csv\")\n",
    "carrosDF = pd.concat([carrosDF, pd.DataFrame(carros)], ignore_index=True)\n",
    "carrosDF"
   ]
  },
  {
   "cell_type": "code",
   "execution_count": null,
   "metadata": {},
   "outputs": [],
   "source": [
    "links = ['https://se.olx.com.br/sergipe/autos-e-pecas/carros-vans-e-utilitarios/corsa-classic-2007-1024796860?utm_source=listing_2020', 'https://se.olx.com.br/sergipe/autos-e-pecas/carros-vans-e-utilitarios/ranger-xlt-1022452217?utm_source=listing_2020', 'https://se.olx.com.br/sergipe/autos-e-pecas/carros-vans-e-utilitarios/new-fiesta-1-5-se-2015-veiculo-de-garagem-1019484718?utm_source=listing_2020', 'https://se.olx.com.br/sergipe/autos-e-pecas/carros-vans-e-utilitarios/santana-1999-completo-raridade-1024794433?utm_source=listing_2020', 'https://se.olx.com.br/sergipe/autos-e-pecas/carros-vans-e-utilitarios/cruze-2019-18mil-km-958847901?utm_source=listing_2020', 'https://se.olx.com.br/sergipe/autos-e-pecas/carros-vans-e-utilitarios/crossfox-1-6-2015-manual-6-marchas-1003450174?utm_source=listing_2020', 'https://se.olx.com.br/sergipe/autos-e-pecas/carros-vans-e-utilitarios/vendo-carro-kia-qkq-1024792769?utm_source=listing_2020', 'https://se.olx.com.br/sergipe/autos-e-pecas/carros-vans-e-utilitarios/hb20-1-0-confortstyle-2013-uma-joia-rara-1024792773?utm_source=listing_2020', 'https://se.olx.com.br/sergipe/autos-e-pecas/carros-vans-e-utilitarios/vende-se-um-strada-novinho-ano-2021-1024792139?utm_source=listing_2020', 'https://se.olx.com.br/sergipe/autos-e-pecas/carros-vans-e-utilitarios/mitsubishi-l200-outdoor-gls-2-5-turbo-disel-interculler-1024792081?utm_source=listing_2020', 'https://se.olx.com.br/sergipe/autos-e-pecas/carros-vans-e-utilitarios/agile-1-4-ltz-2014-completo-excelente-uber-saia-do-aluguel-938287197?utm_source=listing_2020', 'https://se.olx.com.br/sergipe/autos-e-pecas/carros-vans-e-utilitarios/gran-siena-2014-1024790884?utm_source=listing_2020', 'https://se.olx.com.br/sergipe/autos-e-pecas/carros-vans-e-utilitarios/classic-advantage-2015-1024789748?utm_source=listing_2020', 'https://se.olx.com.br/sergipe/autos-e-pecas/carros-vans-e-utilitarios/audi-a3-2015-1024789406?utm_source=listing_2020', 'https://se.olx.com.br/sergipe/autos-e-pecas/carros-vans-e-utilitarios/strada-volcano-1-3-cd-2022-aut-0km-vendida-976528332?utm_source=listing_2020', 'https://se.olx.com.br/sergipe/autos-e-pecas/carros-vans-e-utilitarios/nivus-2020-2021-1-0-200-tsi-total-flex-highline-automatico-996055568?utm_source=listing_2020', 'https://se.olx.com.br/sergipe/autos-e-pecas/carros-vans-e-utilitarios/gol-1-0-trendline-2015-o-mais-vendido-do-brasil-990317658?utm_source=listing_2020', 'https://se.olx.com.br/sergipe/autos-e-pecas/carros-vans-e-utilitarios/fiat-strada-1-4-working-ano-2016-999760599?utm_source=listing_2020', 'https://se.olx.com.br/sergipe/autos-e-pecas/carros-vans-e-utilitarios/vendo-golf-sapao-18-500-1024788008?utm_source=listing_2020', 'https://se.olx.com.br/sergipe/autos-e-pecas/carros-vans-e-utilitarios/estrada-completa-1-4-1024787923?utm_source=listing_2020', 'https://se.olx.com.br/sergipe/autos-e-pecas/carros-vans-e-utilitarios/corolla-xei-2009-1-8-aut-1024787894?utm_source=listing_2020', 'https://se.olx.com.br/sergipe/autos-e-pecas/carros-vans-e-utilitarios/gol-1-0-3cilindros-som-de-fabrica-licenc2022-unico-dobo-1018892595?utm_source=listing_2020', 'https://se.olx.com.br/sergipe/autos-e-pecas/carros-vans-e-utilitarios/ranger-17-17xlscd2-2-1024787435?utm_source=listing_2020', 'https://se.olx.com.br/sergipe/autos-e-pecas/carros-vans-e-utilitarios/nivus-2020-2021-1-0-200-tsi-total-flex-highline-automatico-1021713264?utm_source=listing_2020', 'https://se.olx.com.br/sergipe/autos-e-pecas/carros-vans-e-utilitarios/renegade-automatico-1-8-completo-unico-dono-financiamos-com-aprovacao-na-hora-1024786021?utm_source=listing_2020',\n",
    "         'https://se.olx.com.br/sergipe/autos-e-pecas/carros-vans-e-utilitarios/hb20s-evolution-pack-1-0-turbo-aut-2021-1024785959?utm_source=listing_2020', 'https://se.olx.com.br/sergipe/autos-e-pecas/carros-vans-e-utilitarios/compass-2018-2018-4x4-diesel-muito-novo-1010382462?utm_source=listing_2020', 'https://se.olx.com.br/sergipe/autos-e-pecas/carros-vans-e-utilitarios/forro-de-porta-amarok-usada-1024785421?utm_source=listing_2020', 'https://se.olx.com.br/sergipe/autos-e-pecas/carros-vans-e-utilitarios/duster-2-0-dynamique-at-2016-venha-conferir-1006715560?utm_source=listing_2020', 'https://se.olx.com.br/sergipe/autos-e-pecas/carros-vans-e-utilitarios/chrysler-300c-v8-5-7-997846504?utm_source=listing_2020', 'https://se.olx.com.br/sergipe/autos-e-pecas/carros-vans-e-utilitarios/idea-adventure-2012-1006894511?utm_source=listing_2020', 'https://se.olx.com.br/sergipe/autos-e-pecas/carros-vans-e-utilitarios/onix-2016-1024784248?utm_source=listing_2020', 'https://se.olx.com.br/sergipe/autos-e-pecas/carros-vans-e-utilitarios/ford-ka-2015-2015-1-5-sigma-flex-se-manual-1012102390?utm_source=listing_2020', 'https://se.olx.com.br/sergipe/autos-e-pecas/carros-vans-e-utilitarios/peugeot-2008-allure-pack-21-22-1009565731?utm_source=listing_2020', 'https://se.olx.com.br/sergipe/autos-e-pecas/carros-vans-e-utilitarios/new-voyage-1-0-19-completo-manual-financiamos-com-0-de-entrada-aprovacao-na-hora-1024783738?utm_source=listing_2020', 'https://se.olx.com.br/sergipe/autos-e-pecas/carros-vans-e-utilitarios/vendo-logan-2012-1024783285?utm_source=listing_2020', 'https://se.olx.com.br/sergipe/autos-e-pecas/carros-vans-e-utilitarios/fiat-touro-ranch-1024783109?utm_source=listing_2020', 'https://se.olx.com.br/sergipe/autos-e-pecas/carros-vans-e-utilitarios/saveiro-ano-13-14-telefone-79-9-zap-1024781824?utm_source=listing_2020', 'https://se.olx.com.br/sergipe/autos-e-pecas/carros-vans-e-utilitarios/hb20s-automatico-1024781638?utm_source=listing_2020', 'https://se.olx.com.br/sergipe/autos-e-pecas/carros-vans-e-utilitarios/venda-de-veiculo-1024781600?utm_source=listing_2020', 'https://se.olx.com.br/sergipe/autos-e-pecas/carros-vans-e-utilitarios/fiat-cronos-1-3-drive-2019-unico-dono-1015320285?utm_source=listing_2020', 'https://se.olx.com.br/sergipe/autos-e-pecas/carros-vans-e-utilitarios/ford-focus-titanium-2-0-aut-2017-troco-e-financio-aprovacao-imediata-1019918438?utm_source=listing_2020', 'https://se.olx.com.br/sergipe/autos-e-pecas/carros-vans-e-utilitarios/vendo-up-14-15-37000-1024780213?utm_source=listing_2020', 'https://se.olx.com.br/sergipe/autos-e-pecas/carros-vans-e-utilitarios/jeep-compass-2017-2017-flex-4x2-2-0-automatico-1022662333?utm_source=listing_2020', 'https://se.olx.com.br/sergipe/autos-e-pecas/carros-vans-e-utilitarios/pajero-sport-1024779093?utm_source=listing_2020', 'https://se.olx.com.br/sergipe/autos-e-pecas/carros-vans-e-utilitarios/volkswagen-tiguan-2-0-tsi-16v-200cv-tiptronic-5p-2016-gasolina-963464512?utm_source=listing_2020', 'https://se.olx.com.br/sergipe/autos-e-pecas/carros-vans-e-utilitarios/fiesta-2004-1024777012?utm_source=listing_2020', 'https://se.olx.com.br/sergipe/autos-e-pecas/carros-vans-e-utilitarios/fiat-uno-2019-ja-financiado-1023681031?utm_source=listing_2020', 'https://se.olx.com.br/sergipe/autos-e-pecas/carros-vans-e-utilitarios/corsa-1024775010?utm_source=listing_2020', 'https://se.olx.com.br/sergipe/autos-e-pecas/carros-vans-e-utilitarios/honda-hr-v-exl-2019-960448547?utm_source=listing_2020']\n",
    "\n",
    "print(len(links))\n"
   ]
  },
  {
   "cell_type": "code",
   "execution_count": 15,
   "metadata": {},
   "outputs": [],
   "source": [
    "links = pd.DataFrame(links, columns = [\"Links\"])"
   ]
  },
  {
   "cell_type": "code",
   "execution_count": 16,
   "metadata": {},
   "outputs": [
    {
     "data": {
      "text/html": [
       "<div>\n",
       "<style scoped>\n",
       "    .dataframe tbody tr th:only-of-type {\n",
       "        vertical-align: middle;\n",
       "    }\n",
       "\n",
       "    .dataframe tbody tr th {\n",
       "        vertical-align: top;\n",
       "    }\n",
       "\n",
       "    .dataframe thead th {\n",
       "        text-align: right;\n",
       "    }\n",
       "</style>\n",
       "<table border=\"1\" class=\"dataframe\">\n",
       "  <thead>\n",
       "    <tr style=\"text-align: right;\">\n",
       "      <th></th>\n",
       "      <th>Links</th>\n",
       "    </tr>\n",
       "  </thead>\n",
       "  <tbody>\n",
       "    <tr>\n",
       "      <th>0</th>\n",
       "      <td>https://se.olx.com.br/sergipe/autos-e-pecas/ca...</td>\n",
       "    </tr>\n",
       "    <tr>\n",
       "      <th>1</th>\n",
       "      <td>https://se.olx.com.br/sergipe/autos-e-pecas/ca...</td>\n",
       "    </tr>\n",
       "    <tr>\n",
       "      <th>2</th>\n",
       "      <td>https://se.olx.com.br/sergipe/autos-e-pecas/ca...</td>\n",
       "    </tr>\n",
       "    <tr>\n",
       "      <th>3</th>\n",
       "      <td>https://se.olx.com.br/sergipe/autos-e-pecas/ca...</td>\n",
       "    </tr>\n",
       "    <tr>\n",
       "      <th>4</th>\n",
       "      <td>https://se.olx.com.br/sergipe/autos-e-pecas/ca...</td>\n",
       "    </tr>\n",
       "  </tbody>\n",
       "</table>\n",
       "</div>"
      ],
      "text/plain": [
       "                                               Links\n",
       "0  https://se.olx.com.br/sergipe/autos-e-pecas/ca...\n",
       "1  https://se.olx.com.br/sergipe/autos-e-pecas/ca...\n",
       "2  https://se.olx.com.br/sergipe/autos-e-pecas/ca...\n",
       "3  https://se.olx.com.br/sergipe/autos-e-pecas/ca...\n",
       "4  https://se.olx.com.br/sergipe/autos-e-pecas/ca..."
      ]
     },
     "execution_count": 16,
     "metadata": {},
     "output_type": "execute_result"
    }
   ],
   "source": [
    "links.head()"
   ]
  },
  {
   "cell_type": "code",
   "execution_count": 17,
   "metadata": {},
   "outputs": [],
   "source": [
    "link = 'https://se.olx.com.br/sergipe/autos-e-pecas/carros-vans-e-utilitarios/corsa-classic-2007-1024796860?utm_source=listing_2020'"
   ]
  },
  {
   "cell_type": "code",
   "execution_count": 52,
   "metadata": {},
   "outputs": [],
   "source": [
    "if not links.query(f'Links==\"{link}\"').shape[0]:\n",
    "    print(\"Não Existe\")\n"
   ]
  },
  {
   "cell_type": "code",
   "execution_count": 29,
   "metadata": {},
   "outputs": [],
   "source": [
    "linksAnuncios = ['https://se.olx.com.br/sergipe/autos-e-pecas/carros-vans-e-utilitarios/corsa-classic-2007-1024796860?utm_source=listing_2020', 'https://se.olx.com.br/sergipe/autos-e-pecas/carros-vans-e-utilitarios/ranger-xlt-1022452217?utm_source=listing_2020', 'https://se.olx.com.br/sergipe/autos-e-pecas/carros-vans-e-utilitarios/corsa-classic-2007-1024796860?utm_source=listing_2020b', 'https://se.olx.com.br/sergipe/autos-e-pecas/carros-vans-e-utilitarios/ranger-xlt-1022452217?utm_source=listing_2020a']"
   ]
  },
  {
   "cell_type": "code",
   "execution_count": 30,
   "metadata": {},
   "outputs": [],
   "source": [
    "linksAnuncios = pd.DataFrame(linksAnuncios, columns = [\"Links\"])"
   ]
  },
  {
   "cell_type": "code",
   "execution_count": 48,
   "metadata": {},
   "outputs": [],
   "source": [
    "t = pd.concat([links, linksAnuncios])"
   ]
  },
  {
   "cell_type": "code",
   "execution_count": 50,
   "metadata": {},
   "outputs": [
    {
     "data": {
      "text/plain": [
       "Links                                                                                                                                                                                    \n",
       "https://se.olx.com.br/sergipe/autos-e-pecas/carros-vans-e-utilitarios/ranger-xlt-1022452217?utm_source=listing_2020                                                                          2\n",
       "https://se.olx.com.br/sergipe/autos-e-pecas/carros-vans-e-utilitarios/corsa-classic-2007-1024796860?utm_source=listing_2020                                                                  2\n",
       "https://se.olx.com.br/sergipe/autos-e-pecas/carros-vans-e-utilitarios/agile-1-4-ltz-2014-completo-excelente-uber-saia-do-aluguel-938287197?utm_source=listing_2020                           1\n",
       "https://se.olx.com.br/sergipe/autos-e-pecas/carros-vans-e-utilitarios/jeep-compass-2017-2017-flex-4x2-2-0-automatico-1022662333?utm_source=listing_2020                                      1\n",
       "https://se.olx.com.br/sergipe/autos-e-pecas/carros-vans-e-utilitarios/mitsubishi-l200-outdoor-gls-2-5-turbo-disel-interculler-1024792081?utm_source=listing_2020                             1\n",
       "https://se.olx.com.br/sergipe/autos-e-pecas/carros-vans-e-utilitarios/new-fiesta-1-5-se-2015-veiculo-de-garagem-1019484718?utm_source=listing_2020                                           1\n",
       "https://se.olx.com.br/sergipe/autos-e-pecas/carros-vans-e-utilitarios/new-voyage-1-0-19-completo-manual-financiamos-com-0-de-entrada-aprovacao-na-hora-1024783738?utm_source=listing_2020    1\n",
       "https://se.olx.com.br/sergipe/autos-e-pecas/carros-vans-e-utilitarios/nivus-2020-2021-1-0-200-tsi-total-flex-highline-automatico-1021713264?utm_source=listing_2020                          1\n",
       "https://se.olx.com.br/sergipe/autos-e-pecas/carros-vans-e-utilitarios/nivus-2020-2021-1-0-200-tsi-total-flex-highline-automatico-996055568?utm_source=listing_2020                           1\n",
       "https://se.olx.com.br/sergipe/autos-e-pecas/carros-vans-e-utilitarios/onix-2016-1024784248?utm_source=listing_2020                                                                           1\n",
       "https://se.olx.com.br/sergipe/autos-e-pecas/carros-vans-e-utilitarios/pajero-sport-1024779093?utm_source=listing_2020                                                                        1\n",
       "https://se.olx.com.br/sergipe/autos-e-pecas/carros-vans-e-utilitarios/peugeot-2008-allure-pack-21-22-1009565731?utm_source=listing_2020                                                      1\n",
       "https://se.olx.com.br/sergipe/autos-e-pecas/carros-vans-e-utilitarios/ranger-17-17xlscd2-2-1024787435?utm_source=listing_2020                                                                1\n",
       "https://se.olx.com.br/sergipe/autos-e-pecas/carros-vans-e-utilitarios/ranger-xlt-1022452217?utm_source=listing_2020a                                                                         1\n",
       "https://se.olx.com.br/sergipe/autos-e-pecas/carros-vans-e-utilitarios/honda-hr-v-exl-2019-960448547?utm_source=listing_2020                                                                  1\n",
       "https://se.olx.com.br/sergipe/autos-e-pecas/carros-vans-e-utilitarios/renegade-automatico-1-8-completo-unico-dono-financiamos-com-aprovacao-na-hora-1024786021?utm_source=listing_2020       1\n",
       "https://se.olx.com.br/sergipe/autos-e-pecas/carros-vans-e-utilitarios/santana-1999-completo-raridade-1024794433?utm_source=listing_2020                                                      1\n",
       "https://se.olx.com.br/sergipe/autos-e-pecas/carros-vans-e-utilitarios/saveiro-ano-13-14-telefone-79-9-zap-1024781824?utm_source=listing_2020                                                 1\n",
       "https://se.olx.com.br/sergipe/autos-e-pecas/carros-vans-e-utilitarios/strada-volcano-1-3-cd-2022-aut-0km-vendida-976528332?utm_source=listing_2020                                           1\n",
       "https://se.olx.com.br/sergipe/autos-e-pecas/carros-vans-e-utilitarios/venda-de-veiculo-1024781600?utm_source=listing_2020                                                                    1\n",
       "https://se.olx.com.br/sergipe/autos-e-pecas/carros-vans-e-utilitarios/vende-se-um-strada-novinho-ano-2021-1024792139?utm_source=listing_2020                                                 1\n",
       "https://se.olx.com.br/sergipe/autos-e-pecas/carros-vans-e-utilitarios/vendo-carro-kia-qkq-1024792769?utm_source=listing_2020                                                                 1\n",
       "https://se.olx.com.br/sergipe/autos-e-pecas/carros-vans-e-utilitarios/vendo-golf-sapao-18-500-1024788008?utm_source=listing_2020                                                             1\n",
       "https://se.olx.com.br/sergipe/autos-e-pecas/carros-vans-e-utilitarios/vendo-logan-2012-1024783285?utm_source=listing_2020                                                                    1\n",
       "https://se.olx.com.br/sergipe/autos-e-pecas/carros-vans-e-utilitarios/vendo-up-14-15-37000-1024780213?utm_source=listing_2020                                                                1\n",
       "https://se.olx.com.br/sergipe/autos-e-pecas/carros-vans-e-utilitarios/idea-adventure-2012-1006894511?utm_source=listing_2020                                                                 1\n",
       "https://se.olx.com.br/sergipe/autos-e-pecas/carros-vans-e-utilitarios/hb20s-evolution-pack-1-0-turbo-aut-2021-1024785959?utm_source=listing_2020                                             1\n",
       "https://se.olx.com.br/sergipe/autos-e-pecas/carros-vans-e-utilitarios/audi-a3-2015-1024789406?utm_source=listing_2020                                                                        1\n",
       "https://se.olx.com.br/sergipe/autos-e-pecas/carros-vans-e-utilitarios/fiat-cronos-1-3-drive-2019-unico-dono-1015320285?utm_source=listing_2020                                               1\n",
       "https://se.olx.com.br/sergipe/autos-e-pecas/carros-vans-e-utilitarios/chrysler-300c-v8-5-7-997846504?utm_source=listing_2020                                                                 1\n",
       "https://se.olx.com.br/sergipe/autos-e-pecas/carros-vans-e-utilitarios/classic-advantage-2015-1024789748?utm_source=listing_2020                                                              1\n",
       "https://se.olx.com.br/sergipe/autos-e-pecas/carros-vans-e-utilitarios/compass-2018-2018-4x4-diesel-muito-novo-1010382462?utm_source=listing_2020                                             1\n",
       "https://se.olx.com.br/sergipe/autos-e-pecas/carros-vans-e-utilitarios/corolla-xei-2009-1-8-aut-1024787894?utm_source=listing_2020                                                            1\n",
       "https://se.olx.com.br/sergipe/autos-e-pecas/carros-vans-e-utilitarios/corsa-1024775010?utm_source=listing_2020                                                                               1\n",
       "https://se.olx.com.br/sergipe/autos-e-pecas/carros-vans-e-utilitarios/corsa-classic-2007-1024796860?utm_source=listing_2020b                                                                 1\n",
       "https://se.olx.com.br/sergipe/autos-e-pecas/carros-vans-e-utilitarios/crossfox-1-6-2015-manual-6-marchas-1003450174?utm_source=listing_2020                                                  1\n",
       "https://se.olx.com.br/sergipe/autos-e-pecas/carros-vans-e-utilitarios/cruze-2019-18mil-km-958847901?utm_source=listing_2020                                                                  1\n",
       "https://se.olx.com.br/sergipe/autos-e-pecas/carros-vans-e-utilitarios/duster-2-0-dynamique-at-2016-venha-conferir-1006715560?utm_source=listing_2020                                         1\n",
       "https://se.olx.com.br/sergipe/autos-e-pecas/carros-vans-e-utilitarios/estrada-completa-1-4-1024787923?utm_source=listing_2020                                                                1\n",
       "https://se.olx.com.br/sergipe/autos-e-pecas/carros-vans-e-utilitarios/fiat-strada-1-4-working-ano-2016-999760599?utm_source=listing_2020                                                     1\n",
       "https://se.olx.com.br/sergipe/autos-e-pecas/carros-vans-e-utilitarios/hb20s-automatico-1024781638?utm_source=listing_2020                                                                    1\n",
       "https://se.olx.com.br/sergipe/autos-e-pecas/carros-vans-e-utilitarios/fiat-touro-ranch-1024783109?utm_source=listing_2020                                                                    1\n",
       "https://se.olx.com.br/sergipe/autos-e-pecas/carros-vans-e-utilitarios/fiat-uno-2019-ja-financiado-1023681031?utm_source=listing_2020                                                         1\n",
       "https://se.olx.com.br/sergipe/autos-e-pecas/carros-vans-e-utilitarios/fiesta-2004-1024777012?utm_source=listing_2020                                                                         1\n",
       "https://se.olx.com.br/sergipe/autos-e-pecas/carros-vans-e-utilitarios/ford-focus-titanium-2-0-aut-2017-troco-e-financio-aprovacao-imediata-1019918438?utm_source=listing_2020                1\n",
       "https://se.olx.com.br/sergipe/autos-e-pecas/carros-vans-e-utilitarios/ford-ka-2015-2015-1-5-sigma-flex-se-manual-1012102390?utm_source=listing_2020                                          1\n",
       "https://se.olx.com.br/sergipe/autos-e-pecas/carros-vans-e-utilitarios/forro-de-porta-amarok-usada-1024785421?utm_source=listing_2020                                                         1\n",
       "https://se.olx.com.br/sergipe/autos-e-pecas/carros-vans-e-utilitarios/gol-1-0-3cilindros-som-de-fabrica-licenc2022-unico-dobo-1018892595?utm_source=listing_2020                             1\n",
       "https://se.olx.com.br/sergipe/autos-e-pecas/carros-vans-e-utilitarios/gol-1-0-trendline-2015-o-mais-vendido-do-brasil-990317658?utm_source=listing_2020                                      1\n",
       "https://se.olx.com.br/sergipe/autos-e-pecas/carros-vans-e-utilitarios/gran-siena-2014-1024790884?utm_source=listing_2020                                                                     1\n",
       "https://se.olx.com.br/sergipe/autos-e-pecas/carros-vans-e-utilitarios/hb20-1-0-confortstyle-2013-uma-joia-rara-1024792773?utm_source=listing_2020                                            1\n",
       "https://se.olx.com.br/sergipe/autos-e-pecas/carros-vans-e-utilitarios/volkswagen-tiguan-2-0-tsi-16v-200cv-tiptronic-5p-2016-gasolina-963464512?utm_source=listing_2020                       1\n",
       "dtype: int64"
      ]
     },
     "execution_count": 50,
     "metadata": {},
     "output_type": "execute_result"
    }
   ],
   "source": [
    "t.value_counts()"
   ]
  },
  {
   "cell_type": "code",
   "execution_count": null,
   "metadata": {},
   "outputs": [],
   "source": []
  }
 ],
 "metadata": {
  "interpreter": {
   "hash": "9fd70d8b1f86bcb03e21a06bb341867de9ff5f74ccd0ca3cbbe9f37eee7fc413"
  },
  "kernelspec": {
   "display_name": "Python 3.10.4 ('venv': venv)",
   "language": "python",
   "name": "python3"
  },
  "language_info": {
   "codemirror_mode": {
    "name": "ipython",
    "version": 3
   },
   "file_extension": ".py",
   "mimetype": "text/x-python",
   "name": "python",
   "nbconvert_exporter": "python",
   "pygments_lexer": "ipython3",
   "version": "3.10.4"
  },
  "orig_nbformat": 4
 },
 "nbformat": 4,
 "nbformat_minor": 2
}
