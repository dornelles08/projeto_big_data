{
 "cells": [
  {
   "cell_type": "code",
   "execution_count": 109,
   "metadata": {},
   "outputs": [],
   "source": [
    "from mongo import getCars\n",
    "from time import ctime, sleep\n",
    "import pandas as pd\n",
    "from orm import cnx\n",
    "\n",
    "# dataset.to_csv(\"output/dataset.csv\", index=False)\n",
    "# dataset.to_sql(\"cars\", cnx, if_exists=\"replace\")"
   ]
  },
  {
   "cell_type": "code",
   "execution_count": 110,
   "metadata": {},
   "outputs": [
    {
     "data": {
      "text/plain": [
       "(122259, 28)"
      ]
     },
     "execution_count": 110,
     "metadata": {},
     "output_type": "execute_result"
    }
   ],
   "source": [
    "dataset = pd.read_sql('SELECT * FROM cars', cnx)\n",
    "dataset.shape"
   ]
  },
  {
   "cell_type": "code",
   "execution_count": 111,
   "metadata": {},
   "outputs": [
    {
     "data": {
      "text/html": [
       "<div>\n",
       "<style scoped>\n",
       "    .dataframe tbody tr th:only-of-type {\n",
       "        vertical-align: middle;\n",
       "    }\n",
       "\n",
       "    .dataframe tbody tr th {\n",
       "        vertical-align: top;\n",
       "    }\n",
       "\n",
       "    .dataframe thead th {\n",
       "        text-align: right;\n",
       "    }\n",
       "</style>\n",
       "<table border=\"1\" class=\"dataframe\">\n",
       "  <thead>\n",
       "    <tr style=\"text-align: right;\">\n",
       "      <th></th>\n",
       "      <th>title</th>\n",
       "      <th>price</th>\n",
       "      <th>Modelo</th>\n",
       "      <th>Marca</th>\n",
       "      <th>Tipo de veículo</th>\n",
       "      <th>Ano</th>\n",
       "      <th>Quilometragem</th>\n",
       "      <th>Potência do motor</th>\n",
       "      <th>Combustível</th>\n",
       "      <th>Kit GNV</th>\n",
       "      <th>...</th>\n",
       "      <th>Direção hidráulica</th>\n",
       "      <th>Som</th>\n",
       "      <th>Air bag</th>\n",
       "      <th>Alarme</th>\n",
       "      <th>Sensor de ré</th>\n",
       "      <th>Câmera de ré</th>\n",
       "      <th>Blindado</th>\n",
       "      <th>uf</th>\n",
       "      <th>processed</th>\n",
       "      <th>data</th>\n",
       "    </tr>\n",
       "  </thead>\n",
       "  <tbody>\n",
       "    <tr>\n",
       "      <th>0</th>\n",
       "      <td>Honda civic flex</td>\n",
       "      <td>31000.0</td>\n",
       "      <td>CIVIC SEDAN LXS 1</td>\n",
       "      <td>HONDA</td>\n",
       "      <td>Sedã</td>\n",
       "      <td>2010</td>\n",
       "      <td>141934</td>\n",
       "      <td>1.8</td>\n",
       "      <td>Flex</td>\n",
       "      <td>Sim</td>\n",
       "      <td>...</td>\n",
       "      <td>0</td>\n",
       "      <td>1</td>\n",
       "      <td>1</td>\n",
       "      <td>0</td>\n",
       "      <td>1</td>\n",
       "      <td>0</td>\n",
       "      <td>0</td>\n",
       "      <td>BR-RJ</td>\n",
       "      <td>True</td>\n",
       "      <td>2010-01-01</td>\n",
       "    </tr>\n",
       "  </tbody>\n",
       "</table>\n",
       "<p>1 rows × 28 columns</p>\n",
       "</div>"
      ],
      "text/plain": [
       "               title    price             Modelo  Marca Tipo de veículo   Ano  \\\n",
       "0  Honda civic flex   31000.0  CIVIC SEDAN LXS 1  HONDA            Sedã  2010   \n",
       "\n",
       "   Quilometragem Potência do motor Combustível Kit GNV  ...  \\\n",
       "0         141934               1.8        Flex     Sim  ...   \n",
       "\n",
       "  Direção hidráulica Som Air bag Alarme Sensor de ré  Câmera de ré  Blindado  \\\n",
       "0                  0   1       1      0            1             0         0   \n",
       "\n",
       "      uf  processed       data  \n",
       "0  BR-RJ       True 2010-01-01  \n",
       "\n",
       "[1 rows x 28 columns]"
      ]
     },
     "execution_count": 111,
     "metadata": {},
     "output_type": "execute_result"
    }
   ],
   "source": [
    "dataset.head(1)"
   ]
  },
  {
   "cell_type": "code",
   "execution_count": 112,
   "metadata": {},
   "outputs": [],
   "source": [
    "dataset.query(\"Quilometragem < 300000\", inplace=True)"
   ]
  },
  {
   "cell_type": "code",
   "execution_count": 113,
   "metadata": {},
   "outputs": [
    {
     "data": {
      "text/plain": [
       "512"
      ]
     },
     "execution_count": 113,
     "metadata": {},
     "output_type": "execute_result"
    }
   ],
   "source": [
    "dataset.to_csv(\"output/dataset.csv\", index=False)"
   ]
  },
  {
   "cell_type": "code",
   "execution_count": null,
   "metadata": {},
   "outputs": [],
   "source": [
    "dataset.to_sql(\"cars\", cnx, if_exists=\"replace\", index=False)"
   ]
  }
 ],
 "metadata": {
  "interpreter": {
   "hash": "9fd70d8b1f86bcb03e21a06bb341867de9ff5f74ccd0ca3cbbe9f37eee7fc413"
  },
  "kernelspec": {
   "display_name": "Python 3.10.4 ('venv': venv)",
   "language": "python",
   "name": "python3"
  },
  "language_info": {
   "codemirror_mode": {
    "name": "ipython",
    "version": 3
   },
   "file_extension": ".py",
   "mimetype": "text/x-python",
   "name": "python",
   "nbconvert_exporter": "python",
   "pygments_lexer": "ipython3",
   "version": "3.10.4"
  },
  "orig_nbformat": 4
 },
 "nbformat": 4,
 "nbformat_minor": 2
}
